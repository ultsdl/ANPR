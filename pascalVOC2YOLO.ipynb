{
 "cells": [
  {
   "cell_type": "code",
   "execution_count": 1,
   "metadata": {},
   "outputs": [],
   "source": [
    "import xml.etree.ElementTree as ET\n",
    "from os import getcwd\n",
    "import os\n",
    "from tqdm.notebook import tqdm"
   ]
  },
  {
   "cell_type": "code",
   "execution_count": 2,
   "metadata": {},
   "outputs": [],
   "source": [
    "dataset_file = '4_CLASS_test.txt'\n",
    "classes_file = dataset_file[:-4]+'_classes.txt'"
   ]
  },
  {
   "cell_type": "code",
   "execution_count": 3,
   "metadata": {},
   "outputs": [],
   "source": [
    "dataset_train = os.path.join(os.getcwd(),'train_test\\\\allfiles')\n",
    "CLS = [\"numberplate\",\"car\", \"bus\", \"truck\", \"minitruck\", \"motorcycle\"]\n",
    "wd = getcwd()"
   ]
  },
  {
   "cell_type": "code",
   "execution_count": 4,
   "metadata": {},
   "outputs": [],
   "source": [
    "all_files_path = os.listdir(dataset_train)"
   ]
  },
  {
   "cell_type": "code",
   "execution_count": 5,
   "metadata": {},
   "outputs": [],
   "source": [
    "all_files = [dataset_train+\"\\\\\"+i for i in all_files_path]"
   ]
  },
  {
   "cell_type": "code",
   "execution_count": 6,
   "metadata": {},
   "outputs": [
    {
     "data": {
      "text/plain": [
       "9206"
      ]
     },
     "execution_count": 6,
     "metadata": {},
     "output_type": "execute_result"
    }
   ],
   "source": [
    "len(all_files)"
   ]
  },
  {
   "cell_type": "code",
   "execution_count": 9,
   "metadata": {},
   "outputs": [
    {
     "data": {
      "application/vnd.jupyter.widget-view+json": {
       "model_id": "709dbe319c864489b19e8e17bc39e8d0",
       "version_major": 2,
       "version_minor": 0
      },
      "text/plain": [
       "HBox(children=(FloatProgress(value=0.0, max=9206.0), HTML(value='')))"
      ]
     },
     "metadata": {},
     "output_type": "display_data"
    },
    {
     "name": "stdout",
     "output_type": "stream",
     "text": [
      "\n"
     ]
    }
   ],
   "source": [
    "for fullname in tqdm(all_files):\n",
    "    if not fullname.endswith('.xml'):\n",
    "        continue\n",
    "    bb = \"\"\n",
    "    in_file = open(fullname)\n",
    "    tree=ET.parse(in_file)\n",
    "    root = tree.getroot()\n",
    "    for i, obj in enumerate(root.iter('object')):\n",
    "        difficult = obj.find('difficult').text\n",
    "        cls = obj.find('name').text\n",
    "        if cls not in CLS or int(difficult)==1:\n",
    "            continue\n",
    "        cls_id = CLS.index(cls)\n",
    "        xmlbox = obj.find('bndbox')\n",
    "        b = (int(xmlbox.find('xmin').text), int(xmlbox.find('ymin').text), int(xmlbox.find('xmax').text), int(xmlbox.find('ymax').text))\n",
    "        bb += (\" \" + \",\".join([str(a) for a in b]) + ',' + str(cls_id))\n",
    "    #\n",
    "    #    # we need this because I don't know overlapping or something like that\n",
    "    #    if cls == 'Traffic_light':\n",
    "    #        list_file = open(dataset_file, 'a')\n",
    "    #        file_string = str(fullname)[:-4]+'.jpg'+bb+'\\n'\n",
    "    #        list_file.write(file_string)\n",
    "    #        list_file.close()\n",
    "    #        bb = \"\"\n",
    "    #\n",
    "    if bb != \"\":\n",
    "        list_file = open(dataset_file, 'a+')\n",
    "        file_string = str(fullname)[:-4]+'.jpg'+bb+'\\n'\n",
    "        list_file.write(file_string)\n",
    "        list_file.close()"
   ]
  },
  {
   "cell_type": "code",
   "execution_count": 10,
   "metadata": {},
   "outputs": [
    {
     "data": {
      "text/plain": [
       "\"for filename in tqdm(all_files):\\n    if not filename.endswith('.xml'):\\n        continue\\n    test(filename)\""
      ]
     },
     "execution_count": 10,
     "metadata": {},
     "output_type": "execute_result"
    }
   ],
   "source": [
    "\"\"\"for filename in tqdm(all_files):\n",
    "    if not filename.endswith('.xml'):\n",
    "        continue\n",
    "    test(filename)\"\"\""
   ]
  },
  {
   "cell_type": "code",
   "execution_count": null,
   "metadata": {},
   "outputs": [],
   "source": []
  },
  {
   "cell_type": "code",
   "execution_count": 11,
   "metadata": {},
   "outputs": [
    {
     "data": {
      "text/plain": [
       "['numberplate', 'car', 'bus', 'truck', 'minitruck', 'motorcycle']"
      ]
     },
     "execution_count": 11,
     "metadata": {},
     "output_type": "execute_result"
    }
   ],
   "source": [
    "CLS"
   ]
  },
  {
   "cell_type": "code",
   "execution_count": 12,
   "metadata": {},
   "outputs": [
    {
     "data": {
      "application/vnd.jupyter.widget-view+json": {
       "model_id": "2f7c684c4eab4c15b45e534c3504738a",
       "version_major": 2,
       "version_minor": 0
      },
      "text/plain": [
       "HBox(children=(FloatProgress(value=0.0, max=6.0), HTML(value='')))"
      ]
     },
     "metadata": {},
     "output_type": "display_data"
    },
    {
     "name": "stdout",
     "output_type": "stream",
     "text": [
      "\n"
     ]
    }
   ],
   "source": [
    "for CLASS in tqdm(CLS):\n",
    "    list_file = open(classes_file, 'a')\n",
    "    file_string = str(CLASS)+\"\\n\"\n",
    "    list_file.write(file_string)\n",
    "    list_file.close()"
   ]
  },
  {
   "cell_type": "markdown",
   "metadata": {},
   "source": [
    "# For Colab"
   ]
  },
  {
   "cell_type": "code",
   "execution_count": 23,
   "metadata": {},
   "outputs": [],
   "source": [
    "dataset_file = 'google_colab.txt'"
   ]
  },
  {
   "cell_type": "code",
   "execution_count": 24,
   "metadata": {},
   "outputs": [
    {
     "data": {
      "text/plain": [
       "'/content/gdrive/Seal-detection/train/allfiles/'"
      ]
     },
     "execution_count": 24,
     "metadata": {},
     "output_type": "execute_result"
    }
   ],
   "source": [
    "\"/content/gdrive/Seal-detection/train/allfiles/\""
   ]
  },
  {
   "cell_type": "code",
   "execution_count": 25,
   "metadata": {},
   "outputs": [
    {
     "data": {
      "text/plain": [
       "'1043'"
      ]
     },
     "execution_count": 25,
     "metadata": {},
     "output_type": "execute_result"
    }
   ],
   "source": [
    "all_files[75][73:77]"
   ]
  },
  {
   "cell_type": "code",
   "execution_count": null,
   "metadata": {},
   "outputs": [],
   "source": []
  },
  {
   "cell_type": "code",
   "execution_count": null,
   "metadata": {},
   "outputs": [],
   "source": []
  },
  {
   "cell_type": "code",
   "execution_count": null,
   "metadata": {},
   "outputs": [],
   "source": []
  },
  {
   "cell_type": "code",
   "execution_count": 27,
   "metadata": {},
   "outputs": [
    {
     "data": {
      "application/vnd.jupyter.widget-view+json": {
       "model_id": "eb5652febf534544a188d8102b5dfd38",
       "version_major": 2,
       "version_minor": 0
      },
      "text/plain": [
       "HBox(children=(FloatProgress(value=0.0, max=1709.0), HTML(value='')))"
      ]
     },
     "metadata": {},
     "output_type": "display_data"
    },
    {
     "name": "stdout",
     "output_type": "stream",
     "text": [
      "\n"
     ]
    }
   ],
   "source": [
    "for fullname in tqdm(all_files):\n",
    "    if not fullname.endswith('.xml'):\n",
    "        continue\n",
    "    bb = \"\"\n",
    "    in_file = open(fullname)\n",
    "    tree=ET.parse(in_file)\n",
    "    root = tree.getroot()\n",
    "    for i, obj in enumerate(root.iter('object')):\n",
    "        difficult = obj.find('difficult').text\n",
    "        cls = obj.find('name').text\n",
    "        if cls not in CLS or int(difficult)==1:\n",
    "            continue\n",
    "        cls_id = CLS.index(cls)\n",
    "        xmlbox = obj.find('bndbox')\n",
    "        b = (int(xmlbox.find('xmin').text), int(xmlbox.find('ymin').text), int(xmlbox.find('xmax').text), int(xmlbox.find('ymax').text))\n",
    "        bb += (\" \" + \",\".join([str(a) for a in b]) + ',' + str(cls_id))\n",
    "    #\n",
    "    #    # we need this because I don't know overlapping or something like that\n",
    "    #    if cls == 'Traffic_light':\n",
    "    #        list_file = open(dataset_file, 'a')\n",
    "    #        file_string = str(fullname)[:-4]+'.jpg'+bb+'\\n'\n",
    "    #        list_file.write(file_string)\n",
    "    #        list_file.close()\n",
    "    #        bb = \"\"\n",
    "    #\n",
    "    if bb != \"\":\n",
    "        list_file = open(dataset_file, 'a')\n",
    "        file_string = \"/content/Seal-detection/train/allfiles/\"+fullname[73:77]+'.jpg'+bb+'\\n'\n",
    "        list_file.write(file_string)\n",
    "        list_file.close()"
   ]
  },
  {
   "cell_type": "code",
   "execution_count": null,
   "metadata": {},
   "outputs": [],
   "source": []
  }
 ],
 "metadata": {
  "kernelspec": {
   "display_name": "Python 3",
   "language": "python",
   "name": "python3"
  },
  "language_info": {
   "codemirror_mode": {
    "name": "ipython",
    "version": 3
   },
   "file_extension": ".py",
   "mimetype": "text/x-python",
   "name": "python",
   "nbconvert_exporter": "python",
   "pygments_lexer": "ipython3",
   "version": "3.7.6"
  }
 },
 "nbformat": 4,
 "nbformat_minor": 4
}
